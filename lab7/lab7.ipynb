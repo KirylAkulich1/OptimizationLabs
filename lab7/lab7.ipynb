{
 "cells": [
  {
   "cell_type": "markdown",
   "metadata": {},
   "source": [
    "# Лабораторная работа 7\n"
   ]
  },
  {
   "cell_type": "markdown",
   "metadata": {},
   "source": []
  },
  {
   "cell_type": "markdown",
   "metadata": {},
   "source": [
    "![](6.png)\n",
    "![](7.png)"
   ]
  },
  {
   "cell_type": "markdown",
   "metadata": {},
   "source": [
    "Псевдокод алгоритма<br>\n",
    "![](3.png)"
   ]
  },
  {
   "cell_type": "markdown",
   "metadata": {},
   "source": [
    "![](4.png)\n",
    "![](5.png)"
   ]
  },
  {
   "cell_type": "markdown",
   "metadata": {},
   "source": [
    "Примеры<br>\n",
    "![](1.png)\n",
    "![](2.png)"
   ]
  },
  {
   "cell_type": "code",
   "execution_count": 6,
   "metadata": {},
   "outputs": [
    {
     "name": "stdout",
     "output_type": "stream",
     "text": [
      "Max Flow: 5 \n",
      "Graph \n",
      " :[[ 0  2  0  0  3  0]\n",
      " [-2  0  2  0  0  0]\n",
      " [ 0 -2  0  0  0  2]\n",
      " [ 0  0  0  0 -3  3]\n",
      " [-3  0  0  3  0  0]\n",
      " [ 0  0 -2 -3  0  0]]\n"
     ]
    }
   ],
   "source": [
    "# Ford-Fulkerson algorith in Python\n",
    "\n",
    "from collections import defaultdict\n",
    "\n",
    "\n",
    "class Graph:\n",
    "\n",
    "    def __init__(self, graph):\n",
    "        self.graph = graph\n",
    "        self. ROW = len(graph)\n",
    "\n",
    "\n",
    "    # Using BFS as a searching algorithm \n",
    "    def searching_algo_BFS(self, s, t, parent):\n",
    "\n",
    "        visited = [False] * (self.ROW)\n",
    "        queue = []\n",
    "\n",
    "        queue.append(s)\n",
    "        visited[s] = True\n",
    "\n",
    "        while queue:\n",
    "\n",
    "            u = queue.pop(0)\n",
    "\n",
    "            for ind, val in enumerate(self.graph[u]):\n",
    "                if visited[ind] == False and val > 0:\n",
    "                    queue.append(ind)\n",
    "                    visited[ind] = True\n",
    "                    parent[ind] = u\n",
    "\n",
    "        return True if visited[t] else False\n",
    "\n",
    "    # Applying fordfulkerson algorithm\n",
    "    def ford_fulkerson(self, source, sink):\n",
    "        parent = [-1] * (self.ROW)\n",
    "        max_flow = 0\n",
    "\n",
    "        while self.searching_algo_BFS(source, sink, parent):\n",
    "\n",
    "            path_flow = float(\"Inf\")\n",
    "            s = sink\n",
    "            while(s != source):\n",
    "                path_flow = min(path_flow, self.graph[parent[s]][s])\n",
    "                s = parent[s]\n",
    "\n",
    "            # Adding the path flows\n",
    "            max_flow += path_flow\n",
    "\n",
    "            # Updating the residual values of edges\n",
    "            v = sink\n",
    "            while(v != source):\n",
    "                u = parent[v]\n",
    "                self.graph[u][v] -= path_flow\n",
    "                self.graph[v][u] += path_flow\n",
    "                v = parent[v]\n",
    "\n",
    "        return max_flow,self.graph\n",
    "\n",
    "import numpy as np\n",
    "\n",
    "graph = [[0, 8, 0, 0, 3, 0],\n",
    "         [0, 0, 9, 0, 0, 0],\n",
    "         [0, 0, 0, 0, 0, 2],\n",
    "         [0, 0, 0, 0, 0, 5],\n",
    "         [0, 0, 7, 4, 0, 0],\n",
    "         [0, 0, 0, 0, 0, 0]]\n",
    "import copy\n",
    "graph_copy = copy.deepcopy(graph)\n",
    "g = Graph(graph)\n",
    "\n",
    "source = 0\n",
    "sink = 5\n",
    "\n",
    "print(\"Max Flow: %d \" % g.ford_fulkerson(source, sink)[0])\n",
    "\n",
    "print(f\"Graph \\n :{np.array(graph_copy) - np.array(g.ford_fulkerson(source, sink)[1])}\")"
   ]
  }
 ],
 "metadata": {
  "interpreter": {
   "hash": "916dbcbb3f70747c44a77c7bcd40155683ae19c65e1c03b4aa3499c5328201f1"
  },
  "kernelspec": {
   "display_name": "Python 3.8.10 64-bit",
   "name": "python3"
  },
  "language_info": {
   "codemirror_mode": {
    "name": "ipython",
    "version": 3
   },
   "file_extension": ".py",
   "mimetype": "text/x-python",
   "name": "python",
   "nbconvert_exporter": "python",
   "pygments_lexer": "ipython3",
   "version": "3.8.10"
  },
  "orig_nbformat": 4
 },
 "nbformat": 4,
 "nbformat_minor": 2
}
