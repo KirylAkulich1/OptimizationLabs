{
 "cells": [
  {
   "cell_type": "markdown",
   "source": [
    "# Метод ветвей и границ(Акули Кирилл)"
   ],
   "metadata": {}
  },
  {
   "cell_type": "markdown",
   "source": [
    "Подключаем библиотеки для нахождеия оптимального решения задач линейного программирования"
   ],
   "metadata": {}
  },
  {
   "cell_type": "code",
   "execution_count": 1,
   "source": [
    "from scipy.optimize import linprog"
   ],
   "outputs": [],
   "metadata": {}
  },
  {
   "cell_type": "markdown",
   "source": [],
   "metadata": {}
  },
  {
   "cell_type": "markdown",
   "source": [
    "Система:\n",
    "\n",
    "имеет пододящий вид для подачи ее в алгоритм"
   ],
   "metadata": {}
  },
  {
   "cell_type": "code",
   "execution_count": 33,
   "source": [
    "import math\n",
    "import networkx as nx\n",
    "\n",
    "G = nx.DiGraph()\n",
    "\n",
    "def zeros(length):\n",
    "    return [0 for _ in range(length)]\n",
    "def borders_and_branches_algorithm(c,lhs_ineq,rhs_ineq,bnd,opt_old):\n",
    "    print(lhs_ineq)\n",
    "    print(rhs_ineq)\n",
    "    opt = linprog(c=obj, A_ub=lhs_ineq, b_ub=rhs_ineq, bounds=bnd,\n",
    "              method=\"revised simplex\")\n",
    "    \n",
    "    G.add_node( str(opt.x)+\" \"+ str(opt.func))\n",
    "    if opt_old is not None:\n",
    "        G.add_edge(opt_old,str(opt.x)+\" \"+ str(opt.func))\n",
    "\n",
    "    if not opt.success:\n",
    "        opt.func =  float('inf')\n",
    "        return opt\n",
    "\n",
    "    x_values = opt.x\n",
    "    #print([x.is_integer() for x in x_values])\n",
    "    for i,x in enumerate(x_values):\n",
    "        if x.is_integer():\n",
    "            continue\n",
    "        ceil_lhs_ineq = lhs_ineq.copy()\n",
    "        ceil_lhs_ineq_row = zeros(len(c))\n",
    "        ceil_lhs_ineq_row[i] = -1\n",
    "        ceil_lhs_ineq.append(ceil_lhs_ineq_row)\n",
    "        ceil_rhs_ineq = rhs_ineq.copy()\n",
    "        ceil_rhs_ineq.append((-1)* math.ceil(x))\n",
    "        ceil_solution = borders_and_branches_algorithm(c,ceil_lhs_ineq, ceil_rhs_ineq,bnd,str(opt.x)+\" \"+ str(opt.func))\n",
    "\n",
    "        floor_lhs_ineq = lhs_ineq.copy()\n",
    "        floor_lhs_ineq_row = zeros(len(c))\n",
    "        floor_lhs_ineq_row[i] = 1\n",
    "        floor_lhs_ineq.append(floor_lhs_ineq_row)\n",
    "        floor_rhs_ineq = rhs_ineq.copy()\n",
    "        floor_rhs_ineq.append(math.floor(x))\n",
    "        floor_solution =borders_and_branches_algorithm(c,floor_lhs_ineq, floor_rhs_ineq,bnd,str(opt.x)+\" \"+ str(opt.func))\n",
    "\n",
    "        if ceil_solution.success:\n",
    "            return floor_solution\n",
    "        if floor_solution.success:\n",
    "            return ceil_solution\n",
    "        \n",
    "        return min(ceil_solution,floor_solution,key= lambda x: x.func)\n",
    "    \n",
    "    return opt\n",
    "\n",
    "    \n"
   ],
   "outputs": [],
   "metadata": {}
  },
  {
   "cell_type": "code",
   "execution_count": 35,
   "source": [
    "# function to optimaze params\n",
    "obj  = [-1,-1]\n",
    "\n",
    "# constraint matrix\n",
    "lhs_ineq = [[ 2,  11], \n",
    "            [1,  1],  \n",
    "            [ 4, -5]]\n",
    "\n",
    "rhs_ineq = [ 38,  # правая сторона красного неравенства\n",
    "            7,  # правая сторона синего неравенства\n",
    "            5]\n",
    "\n",
    "bnd = [(0, float(\"inf\")),  # x1 x2 constraints \n",
    "       (0, float(\"inf\"))] \n",
    "       \n",
    "print(borders_and_branches_algorithm(obj,lhs_ineq,rhs_ineq,bnd,None))\n"
   ],
   "outputs": [
    {
     "output_type": "stream",
     "name": "stdout",
     "text": [
      "[[2, 11], [1, 1], [4, -5]]\n",
      "[38, 7, 5]\n"
     ]
    },
    {
     "output_type": "error",
     "ename": "AttributeError",
     "evalue": "func",
     "traceback": [
      "\u001b[0;31m---------------------------------------------------------------------------\u001b[0m",
      "\u001b[0;31mKeyError\u001b[0m                                  Traceback (most recent call last)",
      "\u001b[0;32m~/.local/lib/python3.8/site-packages/scipy/optimize/optimize.py\u001b[0m in \u001b[0;36m__getattr__\u001b[0;34m(self, name)\u001b[0m\n\u001b[1;32m    121\u001b[0m         \u001b[0;32mtry\u001b[0m\u001b[0;34m:\u001b[0m\u001b[0;34m\u001b[0m\u001b[0;34m\u001b[0m\u001b[0m\n\u001b[0;32m--> 122\u001b[0;31m             \u001b[0;32mreturn\u001b[0m \u001b[0mself\u001b[0m\u001b[0;34m[\u001b[0m\u001b[0mname\u001b[0m\u001b[0;34m]\u001b[0m\u001b[0;34m\u001b[0m\u001b[0;34m\u001b[0m\u001b[0m\n\u001b[0m\u001b[1;32m    123\u001b[0m         \u001b[0;32mexcept\u001b[0m \u001b[0mKeyError\u001b[0m \u001b[0;32mas\u001b[0m \u001b[0me\u001b[0m\u001b[0;34m:\u001b[0m\u001b[0;34m\u001b[0m\u001b[0;34m\u001b[0m\u001b[0m\n",
      "\u001b[0;31mKeyError\u001b[0m: 'func'",
      "\nThe above exception was the direct cause of the following exception:\n",
      "\u001b[0;31mAttributeError\u001b[0m                            Traceback (most recent call last)",
      "\u001b[0;32m/tmp/ipykernel_21880/323970577.py\u001b[0m in \u001b[0;36m<module>\u001b[0;34m\u001b[0m\n\u001b[1;32m     14\u001b[0m        (0, float(\"inf\"))] \n\u001b[1;32m     15\u001b[0m \u001b[0;34m\u001b[0m\u001b[0m\n\u001b[0;32m---> 16\u001b[0;31m \u001b[0mprint\u001b[0m\u001b[0;34m(\u001b[0m\u001b[0mborders_and_branches_algorithm\u001b[0m\u001b[0;34m(\u001b[0m\u001b[0mobj\u001b[0m\u001b[0;34m,\u001b[0m\u001b[0mlhs_ineq\u001b[0m\u001b[0;34m,\u001b[0m\u001b[0mrhs_ineq\u001b[0m\u001b[0;34m,\u001b[0m\u001b[0mbnd\u001b[0m\u001b[0;34m,\u001b[0m\u001b[0;32mNone\u001b[0m\u001b[0;34m)\u001b[0m\u001b[0;34m)\u001b[0m\u001b[0;34m\u001b[0m\u001b[0;34m\u001b[0m\u001b[0m\n\u001b[0m",
      "\u001b[0;32m/tmp/ipykernel_21880/1283641028.py\u001b[0m in \u001b[0;36mborders_and_branches_algorithm\u001b[0;34m(c, lhs_ineq, rhs_ineq, bnd, opt_old)\u001b[0m\n\u001b[1;32m     12\u001b[0m               method=\"revised simplex\")\n\u001b[1;32m     13\u001b[0m \u001b[0;34m\u001b[0m\u001b[0m\n\u001b[0;32m---> 14\u001b[0;31m     \u001b[0mG\u001b[0m\u001b[0;34m.\u001b[0m\u001b[0madd_node\u001b[0m\u001b[0;34m(\u001b[0m \u001b[0mstr\u001b[0m\u001b[0;34m(\u001b[0m\u001b[0mopt\u001b[0m\u001b[0;34m.\u001b[0m\u001b[0mx\u001b[0m\u001b[0;34m)\u001b[0m\u001b[0;34m+\u001b[0m\u001b[0;34m\" \"\u001b[0m\u001b[0;34m+\u001b[0m \u001b[0mstr\u001b[0m\u001b[0;34m(\u001b[0m\u001b[0mopt\u001b[0m\u001b[0;34m.\u001b[0m\u001b[0mfunc\u001b[0m\u001b[0;34m)\u001b[0m\u001b[0;34m)\u001b[0m\u001b[0;34m\u001b[0m\u001b[0;34m\u001b[0m\u001b[0m\n\u001b[0m\u001b[1;32m     15\u001b[0m     \u001b[0;32mif\u001b[0m \u001b[0mopt_old\u001b[0m \u001b[0;32mis\u001b[0m \u001b[0;32mnot\u001b[0m \u001b[0;32mNone\u001b[0m\u001b[0;34m:\u001b[0m\u001b[0;34m\u001b[0m\u001b[0;34m\u001b[0m\u001b[0m\n\u001b[1;32m     16\u001b[0m         \u001b[0mG\u001b[0m\u001b[0;34m.\u001b[0m\u001b[0madd_edge\u001b[0m\u001b[0;34m(\u001b[0m\u001b[0mopt_old\u001b[0m\u001b[0;34m,\u001b[0m\u001b[0mstr\u001b[0m\u001b[0;34m(\u001b[0m\u001b[0mopt\u001b[0m\u001b[0;34m.\u001b[0m\u001b[0mx\u001b[0m\u001b[0;34m)\u001b[0m\u001b[0;34m+\u001b[0m\u001b[0;34m\" \"\u001b[0m\u001b[0;34m+\u001b[0m \u001b[0mstr\u001b[0m\u001b[0;34m(\u001b[0m\u001b[0mopt\u001b[0m\u001b[0;34m.\u001b[0m\u001b[0mfunc\u001b[0m\u001b[0;34m)\u001b[0m\u001b[0;34m)\u001b[0m\u001b[0;34m\u001b[0m\u001b[0;34m\u001b[0m\u001b[0m\n",
      "\u001b[0;32m~/.local/lib/python3.8/site-packages/scipy/optimize/optimize.py\u001b[0m in \u001b[0;36m__getattr__\u001b[0;34m(self, name)\u001b[0m\n\u001b[1;32m    122\u001b[0m             \u001b[0;32mreturn\u001b[0m \u001b[0mself\u001b[0m\u001b[0;34m[\u001b[0m\u001b[0mname\u001b[0m\u001b[0;34m]\u001b[0m\u001b[0;34m\u001b[0m\u001b[0;34m\u001b[0m\u001b[0m\n\u001b[1;32m    123\u001b[0m         \u001b[0;32mexcept\u001b[0m \u001b[0mKeyError\u001b[0m \u001b[0;32mas\u001b[0m \u001b[0me\u001b[0m\u001b[0;34m:\u001b[0m\u001b[0;34m\u001b[0m\u001b[0;34m\u001b[0m\u001b[0m\n\u001b[0;32m--> 124\u001b[0;31m             \u001b[0;32mraise\u001b[0m \u001b[0mAttributeError\u001b[0m\u001b[0;34m(\u001b[0m\u001b[0mname\u001b[0m\u001b[0;34m)\u001b[0m \u001b[0;32mfrom\u001b[0m \u001b[0me\u001b[0m\u001b[0;34m\u001b[0m\u001b[0;34m\u001b[0m\u001b[0m\n\u001b[0m\u001b[1;32m    125\u001b[0m \u001b[0;34m\u001b[0m\u001b[0m\n\u001b[1;32m    126\u001b[0m     \u001b[0m__setattr__\u001b[0m \u001b[0;34m=\u001b[0m \u001b[0mdict\u001b[0m\u001b[0;34m.\u001b[0m\u001b[0m__setitem__\u001b[0m\u001b[0;34m\u001b[0m\u001b[0;34m\u001b[0m\u001b[0m\n",
      "\u001b[0;31mAttributeError\u001b[0m: func"
     ]
    }
   ],
   "metadata": {}
  }
 ],
 "metadata": {
  "orig_nbformat": 4,
  "language_info": {
   "name": "python",
   "version": "3.8.10",
   "mimetype": "text/x-python",
   "codemirror_mode": {
    "name": "ipython",
    "version": 3
   },
   "pygments_lexer": "ipython3",
   "nbconvert_exporter": "python",
   "file_extension": ".py"
  },
  "kernelspec": {
   "name": "python3",
   "display_name": "Python 3.8.10 64-bit"
  },
  "interpreter": {
   "hash": "916dbcbb3f70747c44a77c7bcd40155683ae19c65e1c03b4aa3499c5328201f1"
  }
 },
 "nbformat": 4,
 "nbformat_minor": 2
}