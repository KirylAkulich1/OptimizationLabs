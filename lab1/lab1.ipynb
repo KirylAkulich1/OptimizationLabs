{
 "cells": [
  {
   "cell_type": "markdown",
   "source": [
    "# Метод ветвей и границ(Акулич Кирилл)"
   ],
   "metadata": {}
  },
  {
   "cell_type": "markdown",
   "source": [
    "# Постановка задачи:\n",
    "Находение оптимального целисленного решения задаччи ЛП"
   ],
   "metadata": {}
  },
  {
   "cell_type": "markdown",
   "source": [
    "# Описание алгоритма:\n",
    "Описание алгоритма  поясним на примере\n",
    "\n",
    "![](p1.png)\n",
    "\n",
    "Оптимальное вещественное решение данной задачи представим графически\n",
    "\n",
    "![](p2.png)\n",
    "\n",
    "![](p3.png)\n",
    "\n",
    "![](p4.png)\n",
    "\n",
    "![](p5.png)\n",
    "\n",
    "Выполняя данные действия на каждом шаге получим граф вычислений\n",
    "\n",
    "![](p6.png)"
   ],
   "metadata": {}
  },
  {
   "cell_type": "markdown",
   "source": [
    "# Код решеия задачи"
   ],
   "metadata": {}
  },
  {
   "cell_type": "markdown",
   "source": [
    "Подключаем библиотеки для нахождеия оптимального решения задач линейного программирования"
   ],
   "metadata": {}
  },
  {
   "cell_type": "code",
   "execution_count": 1,
   "source": [
    "from scipy.optimize import linprog"
   ],
   "outputs": [],
   "metadata": {}
  },
  {
   "cell_type": "markdown",
   "source": [],
   "metadata": {}
  },
  {
   "cell_type": "markdown",
   "source": [
    "# Код рекурсивной функции для решеия задачи"
   ],
   "metadata": {}
  },
  {
   "cell_type": "code",
   "execution_count": 1,
   "source": [
    "\n",
    "import math\n",
    "import networkx as nx\n",
    "import matplotlib.pyplot as plt\n",
    "\n",
    "G = nx.DiGraph()\n",
    "\n",
    "def zeros(length):\n",
    "    return [0 for _ in range(length)]\n",
    "\n",
    "def borders_and_branches_algorithm(c,lhs_ineq,rhs_ineq,bnd):\n",
    "    def get_node_label_from_solution(opt_sol):\n",
    "            ans = str(opt_sol.fun) if opt_sol.success else \"NA\"\n",
    "            return str(opt_sol.x)+\":\"+ ans\n",
    "    \n",
    "    print(\"Left A:\" + str(lhs_ineq))\n",
    "    print(\"Right A:\"+str(rhs_ineq))\n",
    "    opt = linprog(c=obj, A_ub=lhs_ineq, b_ub=rhs_ineq, bounds=bnd,\n",
    "              method=\"revised simplex\")\n",
    "    \n",
    "    parent_str = get_node_label_from_solution(opt)\n",
    "    G.add_node(parent_str)\n",
    "    #if opt_old is not None:\n",
    "    #    G.add_edge(opt_old,str(opt.x)+\" \"+ str(opt.func))\n",
    "\n",
    "    print(opt)\n",
    "    if not opt.success:\n",
    "        opt.fun =  float('inf')\n",
    "        return opt\n",
    "\n",
    "    x_values = opt.x\n",
    "    print(\"============================\" )\n",
    "    min_solutions=[]\n",
    "    for i,x in enumerate(x_values):\n",
    "        if x.is_integer():\n",
    "            continue\n",
    "        ceil_lhs_ineq = lhs_ineq.copy()\n",
    "        ceil_lhs_ineq_row = zeros(len(c))\n",
    "        ceil_lhs_ineq_row[i] = -1\n",
    "        ceil_lhs_ineq.append(ceil_lhs_ineq_row)\n",
    "        ceil_rhs_ineq = rhs_ineq.copy()\n",
    "        ceil_rhs_ineq.append((-1)* math.ceil(x))\n",
    "        ceil_solution = borders_and_branches_algorithm(c,ceil_lhs_ineq, ceil_rhs_ineq,bnd)\n",
    "        G.add_edge(parent_str, get_node_label_from_solution(ceil_solution))\n",
    "\n",
    "        floor_lhs_ineq = lhs_ineq.copy()\n",
    "        floor_lhs_ineq_row = zeros(len(c))\n",
    "        floor_lhs_ineq_row[i] = 1\n",
    "        floor_lhs_ineq.append(floor_lhs_ineq_row)\n",
    "        floor_rhs_ineq = rhs_ineq.copy()\n",
    "        floor_rhs_ineq.append(math.floor(x))\n",
    "        floor_solution = borders_and_branches_algorithm(c,floor_lhs_ineq, floor_rhs_ineq,bnd)\n",
    "        G.add_edge(parent_str, get_node_label_from_solution(floor_solution))\n",
    "\n",
    "        if floor_solution.fun > ceil_solution.fun:\n",
    "            min_solutions.append(ceil_solution)\n",
    "        else:\n",
    "            min_solutions.append(floor_solution)\n",
    "    \n",
    "    if len(min_solutions) == 0:\n",
    "        return opt\n",
    "\n",
    "    return min(min_solutions,key=lambda x: x.fun)"
   ],
   "outputs": [],
   "metadata": {}
  },
  {
   "cell_type": "markdown",
   "source": [
    "![](p7.png)"
   ],
   "metadata": {}
  },
  {
   "cell_type": "code",
   "execution_count": 2,
   "source": [
    "# function to optimaze params\n",
    "obj  = [-1,-1]\n",
    "\n",
    "# constraint matrix\n",
    "lhs_ineq = [[ 2,  11], \n",
    "            [1,  1],  \n",
    "            [ 4, -5]]\n",
    "\n",
    "rhs_ineq = [ 38,  # правая сторона красного неравенства\n",
    "            7,  # правая сторона синего неравенства\n",
    "            5]\n",
    "\n",
    "bnd = [(0, float(\"inf\")),  # x1 x2 constraints \n",
    "       (0, float(\"inf\"))] \n",
    "       \n",
    "print(borders_and_branches_algorithm(obj,lhs_ineq,rhs_ineq,bnd))\n"
   ],
   "outputs": [
    {
     "output_type": "error",
     "ename": "TypeError",
     "evalue": "borders_and_branches_algorithm() takes 4 positional arguments but 5 were given",
     "traceback": [
      "\u001b[0;31m---------------------------------------------------------------------------\u001b[0m",
      "\u001b[0;31mTypeError\u001b[0m                                 Traceback (most recent call last)",
      "\u001b[0;32m/tmp/ipykernel_13861/323970577.py\u001b[0m in \u001b[0;36m<module>\u001b[0;34m\u001b[0m\n\u001b[1;32m     14\u001b[0m        (0, float(\"inf\"))] \n\u001b[1;32m     15\u001b[0m \u001b[0;34m\u001b[0m\u001b[0m\n\u001b[0;32m---> 16\u001b[0;31m \u001b[0mprint\u001b[0m\u001b[0;34m(\u001b[0m\u001b[0mborders_and_branches_algorithm\u001b[0m\u001b[0;34m(\u001b[0m\u001b[0mobj\u001b[0m\u001b[0;34m,\u001b[0m\u001b[0mlhs_ineq\u001b[0m\u001b[0;34m,\u001b[0m\u001b[0mrhs_ineq\u001b[0m\u001b[0;34m,\u001b[0m\u001b[0mbnd\u001b[0m\u001b[0;34m,\u001b[0m\u001b[0;32mNone\u001b[0m\u001b[0;34m)\u001b[0m\u001b[0;34m)\u001b[0m\u001b[0;34m\u001b[0m\u001b[0;34m\u001b[0m\u001b[0m\n\u001b[0m",
      "\u001b[0;31mTypeError\u001b[0m: borders_and_branches_algorithm() takes 4 positional arguments but 5 were given"
     ]
    }
   ],
   "metadata": {}
  }
 ],
 "metadata": {
  "orig_nbformat": 4,
  "language_info": {
   "name": "python",
   "version": "3.8.10",
   "mimetype": "text/x-python",
   "codemirror_mode": {
    "name": "ipython",
    "version": 3
   },
   "pygments_lexer": "ipython3",
   "nbconvert_exporter": "python",
   "file_extension": ".py"
  },
  "kernelspec": {
   "name": "python3",
   "display_name": "Python 3.8.10 64-bit"
  },
  "interpreter": {
   "hash": "916dbcbb3f70747c44a77c7bcd40155683ae19c65e1c03b4aa3499c5328201f1"
  }
 },
 "nbformat": 4,
 "nbformat_minor": 2
}