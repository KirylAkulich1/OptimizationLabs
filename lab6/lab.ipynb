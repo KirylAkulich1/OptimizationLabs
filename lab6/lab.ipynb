{
 "cells": [
  {
   "cell_type": "markdown",
   "metadata": {},
   "source": [
    "# Лабораторная работа 6\n",
    "Цели: Изучить метод Флойда.<br>\n",
    "Задачи: Реализовать метод Флойда для нахождение кратчайших путей в взвешенном ориентированном графе."
   ]
  },
  {
   "cell_type": "markdown",
   "metadata": {},
   "source": [
    "Псевдокод алгоритма<br>\n",
    "![](1.png)\n",
    "![](3.png)\n",
    "![](4.png)\n"
   ]
  },
  {
   "cell_type": "markdown",
   "metadata": {},
   "source": [
    "Формула Алгоритма<br>\n",
    "![](2.png)"
   ]
  },
  {
   "cell_type": "markdown",
   "metadata": {},
   "source": [
    "![](5.png)"
   ]
  },
  {
   "cell_type": "code",
   "execution_count": 13,
   "metadata": {},
   "outputs": [],
   "source": [
    "import numpy as np\n",
    "def floyd_warshall(W,Pi):\n",
    "    n = W.shape[0]\n",
    "    D = W\n",
    "    P = Pi\n",
    "    for k in range(n):\n",
    "        D_next = np.zeros(shape = W.shape)\n",
    "        P_next = np.zeros(shape = W.shape)\n",
    "        for i in range(n):\n",
    "            for j in range(n):\n",
    "                D_next[i,j] = np.min([D[i,j],D[i,k]+D[k,j]])\n",
    "                if D_next[i,j] == D[i,j]:\n",
    "                    P_next[i,j] = P[i,j]\n",
    "                else:\n",
    "                    P_next[i,j] = P[k,j] \n",
    "        D = D_next\n",
    "        P = P_next\n",
    "    return (D,P)\n"
   ]
  },
  {
   "cell_type": "code",
   "execution_count": 15,
   "metadata": {},
   "outputs": [
    {
     "name": "stdout",
     "output_type": "stream",
     "text": [
      "[[ 0.  1. -3.  2. -4.]\n",
      " [ 3.  0. -4.  1. -1.]\n",
      " [ 7.  4.  0.  5.  3.]\n",
      " [ 2. -1. -5.  0. -2.]\n",
      " [ 8.  5.  1.  6.  0.]]\n",
      "[[nan  3.  4.  5.  1.]\n",
      " [ 4. nan  4.  2.  1.]\n",
      " [ 4.  3. nan  2.  1.]\n",
      " [ 4.  3.  4. nan  1.]\n",
      " [ 4.  3.  4.  5. nan]]\n"
     ]
    }
   ],
   "source": [
    "W = np.array([[0,3,8,np.inf,-4],\n",
    "    [np.inf,0,np.inf,1,7],\n",
    "    [np.inf,4,0,np.inf,np.inf],\n",
    "    [2,np.inf,-5,0,np.inf],\n",
    "    [np.inf,np.inf,np.inf,6,0]])\n",
    "Pi = np.array([[np.NAN,1,1,np.NAN,1],\n",
    "    [np.NAN,np.NAN,np.NAN,2,2],\n",
    "    [np.NAN,3,np.NAN,np.NAN,np.NAN],\n",
    "    [4,np.NAN,4,np.NAN,np.NAN],\n",
    "    [np.NAN,np.NAN,np.NAN,5,np.NAN]])\n",
    "D,P = floyd_warshall(W,Pi)\n",
    "print(D)\n",
    "print(P)\n"
   ]
  },
  {
   "cell_type": "markdown",
   "metadata": {},
   "source": [
    "![](6.png)"
   ]
  },
  {
   "cell_type": "markdown",
   "metadata": {},
   "source": [
    "Вывод: В результате работы был реализован алоритм Флойда"
   ]
  }
 ],
 "metadata": {
  "interpreter": {
   "hash": "916dbcbb3f70747c44a77c7bcd40155683ae19c65e1c03b4aa3499c5328201f1"
  },
  "kernelspec": {
   "display_name": "Python 3.8.10 64-bit",
   "name": "python3"
  },
  "language_info": {
   "codemirror_mode": {
    "name": "ipython",
    "version": 3
   },
   "file_extension": ".py",
   "mimetype": "text/x-python",
   "name": "python",
   "nbconvert_exporter": "python",
   "pygments_lexer": "ipython3",
   "version": "3.8.10"
  },
  "orig_nbformat": 4
 },
 "nbformat": 4,
 "nbformat_minor": 2
}
