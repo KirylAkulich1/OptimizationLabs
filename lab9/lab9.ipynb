{
 "cells": [
  {
   "cell_type": "code",
   "execution_count": null,
   "metadata": {},
   "outputs": [],
   "source": []
  },
  {
   "cell_type": "markdown",
   "metadata": {},
   "source": [
    "# Лабораторная работа 9\n"
   ]
  },
  {
   "cell_type": "markdown",
   "metadata": {},
   "source": [
    "![](1.png)\n",
    "![](2.png)\n",
    "![](3.png)\n",
    "![](4.png)"
   ]
  },
  {
   "cell_type": "markdown",
   "metadata": {},
   "source": [
    "![](5.png)"
   ]
  },
  {
   "cell_type": "code",
   "execution_count": 1,
   "metadata": {},
   "outputs": [],
   "source": [
    "class Graph:\n",
    "\n",
    "    def __init__(self, graph):\n",
    "        self.graph = graph\n",
    "        self. ROW = len(graph)\n",
    "\n",
    "    def searching_algo_BFS(self, s, t, parent):\n",
    "\n",
    "        visited = [False] * (self.ROW)\n",
    "        queue = []\n",
    "\n",
    "        queue.append(s)\n",
    "        visited[s] = True\n",
    "\n",
    "        while queue:\n",
    "\n",
    "            u = queue.pop(0)\n",
    "\n",
    "            for ind, val in enumerate(self.graph[u]):\n",
    "                if visited[ind] == False and val > 0:\n",
    "                    queue.append(ind)\n",
    "                    visited[ind] = True\n",
    "                    parent[ind] = u\n",
    "\n",
    "        return True if visited[t] else False\n",
    "\n",
    "    # Applying fordfulkerson algorithm\n",
    "    def ford_fulkerson(self, source, sink):\n",
    "        parent = [-1] * (self.ROW)\n",
    "        max_flow = 0\n",
    "\n",
    "        while self.searching_algo_BFS(source, sink, parent):\n",
    "\n",
    "            path_flow = float(\"Inf\")\n",
    "            s = sink\n",
    "            while(s != source):\n",
    "                path_flow = min(path_flow, self.graph[parent[s]][s])\n",
    "                s = parent[s]\n",
    "\n",
    "            # Adding the path flows\n",
    "            max_flow += path_flow\n",
    "\n",
    "            # Updating the residual values of edges\n",
    "            v = sink\n",
    "            while(v != source):\n",
    "                u = parent[v]\n",
    "                self.graph[u][v] -= path_flow\n",
    "                self.graph[v][u] += path_flow\n",
    "                v = parent[v]\n",
    "\n",
    "        return max_flow"
   ]
  },
  {
   "cell_type": "code",
   "execution_count": 4,
   "metadata": {},
   "outputs": [
    {
     "name": "stdout",
     "output_type": "stream",
     "text": [
      "[[0, 1, 1, 1, 1, 1, 0, 0, 0, 0], [0, 0, 0, 0, 0, 0, 1, 0, 0, 0], [0, 0, 0, 0, 0, 0, 1, 0, 1, 0], [0, 0, 0, 0, 0, 0, 0, 1, 0, 1], [0, 0, 0, 0, 0, 0, 0, 0, 1, 0], [0, 0, 0, 0, 0, 0, 0, 0, 1, 1], [0, 0, 0, 0, 0, 0, 0, 0, 0, 1], [0, 0, 0, 0, 0, 0, 0, 0, 0, 1], [0, 0, 0, 0, 0, 0, 0, 0, 0, 0], [0, 0, 0, 0, 0, 0, 0, 0, 0, 0]]\n",
      "3\n"
     ]
    },
    {
     "data": {
      "image/png": "[encoded data removed]",
      "text/plain": [
       "<Figure size 432x288 with 1 Axes>"
      ]
     },
     "metadata": {},
     "output_type": "display_data"
    }
   ],
   "source": [
    "import networkx as nx\n",
    "graph_2d = [[1,1],[2,1],[2,3],[3,2],[3,4],[4,3],[5,3]]\n",
    "L = 5\n",
    "R = 3\n",
    "\n",
    "G = nx.DiGraph()\n",
    "def initilize_matrix(graph,l,r):\n",
    "    N = l+r+2\n",
    "    matrix = list()\n",
    "    [matrix.append([0]*N) for i in range(N)]\n",
    "    matrix[0][1:l+1] = [1]*l\n",
    "    for i in range(r):\n",
    "        matrix[l+i][-1]=1\n",
    "    for v in graph:\n",
    "        matrix[v[0]][l+v[1]]=1\n",
    "    \n",
    "    print(matrix)\n",
    "    return matrix\n",
    "import numpy as np\n",
    "matrix = initilize_matrix(graph_2d,L,R)\n",
    "g = Graph(matrix)\n",
    "print(np.array(g.ford_fulkerson(0,L+R+1)))\n"
   ]
  }
 ],
 "metadata": {
  "interpreter": {
   "hash": "916dbcbb3f70747c44a77c7bcd40155683ae19c65e1c03b4aa3499c5328201f1"
  },
  "kernelspec": {
   "display_name": "Python 3.8.10 64-bit",
   "name": "python3"
  },
  "language_info": {
   "codemirror_mode": {
    "name": "ipython",
    "version": 3
   },
   "file_extension": ".py",
   "mimetype": "text/x-python",
   "name": "python",
   "nbconvert_exporter": "python",
   "pygments_lexer": "ipython3",
   "version": "3.8.10"
  },
  "orig_nbformat": 4
 },
 "nbformat": 4,
 "nbformat_minor": 2
}
