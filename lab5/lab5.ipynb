{
 "cells": [
  {
   "cell_type": "markdown",
   "metadata": {},
   "source": [
    "# Лабораторная работа 5\n",
    "Цели: Изучить метод Дейкстры.<br>\n",
    "Задачи: Реализовать метод Дейкстры для нахождение кратчайшего пути в взвешенном ориентированном графе."
   ]
  },
  {
   "cell_type": "markdown",
   "metadata": {},
   "source": [
    "Псевдокод алгоритма <br>\n",
    "![](1.png)"
   ]
  },
  {
   "cell_type": "markdown",
   "metadata": {},
   "source": []
  },
  {
   "cell_type": "markdown",
   "metadata": {},
   "source": [
    "Док-во правильности нахождения минимального пути"
   ]
  },
  {
   "cell_type": "markdown",
   "metadata": {},
   "source": [
    "![](2.png)\n",
    "![](3.png)\n",
    "![](4.png)\n",
    "![](5.png)"
   ]
  },
  {
   "cell_type": "code",
   "execution_count": 1,
   "metadata": {},
   "outputs": [],
   "source": [
    "from queue import PriorityQueue\n",
    "class Graph:\n",
    "\n",
    "    def __init__(self, num_of_vertices):\n",
    "        self.v = num_of_vertices\n",
    "        self.edges = [[-1 for i in range(num_of_vertices)] for j in range(num_of_vertices)]\n",
    "        self.visited = []\n",
    "    \n",
    "    def add_edge(self, u, v, weight):\n",
    "        self.edges[u][v] = weight\n",
    "        self.edges[v][u] = weight\n",
    "    \n",
    "    def dijkstra(self, start_vertex):\n",
    "        D = {v:float('inf') for v in range(self.v)}\n",
    "        D[start_vertex] = 0\n",
    "\n",
    "        pq = PriorityQueue()\n",
    "        pq.put((0, start_vertex))\n",
    "\n",
    "        while not pq.empty():\n",
    "            (dist, current_vertex) = pq.get()\n",
    "            self.visited.append(current_vertex)\n",
    "\n",
    "            for neighbor in range(self.v):\n",
    "                if self.edges[current_vertex][neighbor] != -1:\n",
    "                    distance = self.edges[current_vertex][neighbor]\n",
    "                    if neighbor not in self.visited:\n",
    "                        old_cost = D[neighbor]\n",
    "                        new_cost = D[current_vertex] + distance\n",
    "                        if new_cost < old_cost:\n",
    "                            pq.put((new_cost, neighbor))\n",
    "                            D[neighbor] = new_cost\n",
    "        return D"
   ]
  },
  {
   "cell_type": "markdown",
   "metadata": {},
   "source": []
  },
  {
   "cell_type": "code",
   "execution_count": 2,
   "metadata": {},
   "outputs": [
    {
     "name": "stdout",
     "output_type": "stream",
     "text": [
      "Distance from vertex 0 to vertex 0 is 0\n",
      "Distance from vertex 0 to vertex 1 is 4\n",
      "Distance from vertex 0 to vertex 2 is 11\n",
      "Distance from vertex 0 to vertex 3 is 17\n",
      "Distance from vertex 0 to vertex 4 is 9\n",
      "Distance from vertex 0 to vertex 5 is 22\n",
      "Distance from vertex 0 to vertex 6 is 7\n",
      "Distance from vertex 0 to vertex 7 is 8\n",
      "Distance from vertex 0 to vertex 8 is 11\n"
     ]
    }
   ],
   "source": [
    "g = Graph(5)\n",
    "g.add_edge(0, 1, 10)\n",
    "g.add_edge(0, 2, 5)\n",
    "g.add_edge(1, 3, 1)\n",
    "g.add_edge(1, 2, 2)\n",
    "g.add_edge(2, 3, 9)\n",
    "g.add_edge(2, 4, 2)\n",
    "g.add_edge(2, 4, 2)\n",
    "g.add_edge(2, 1, 3)\n",
    "g.add_edge(3, 4, 4)\n",
    "g.add_edge(4, 0, 7)\n",
    "g.add_edge(4, 3, 6)\n",
    "\n",
    "D = g.dijkstra(0)\n",
    "\n",
    "for vertex in range(len(D)):\n",
    "    print(\"Distance from vertex 0 to vertex\", vertex, \"is\", D[vertex])"
   ]
  }
 ],
 "metadata": {
  "interpreter": {
   "hash": "916dbcbb3f70747c44a77c7bcd40155683ae19c65e1c03b4aa3499c5328201f1"
  },
  "kernelspec": {
   "display_name": "Python 3.8.10 64-bit",
   "name": "python3"
  },
  "language_info": {
   "codemirror_mode": {
    "name": "ipython",
    "version": 3
   },
   "file_extension": ".py",
   "mimetype": "text/x-python",
   "name": "python",
   "nbconvert_exporter": "python",
   "pygments_lexer": "ipython3",
   "version": "3.8.10"
  },
  "orig_nbformat": 4
 },
 "nbformat": 4,
 "nbformat_minor": 2
}
