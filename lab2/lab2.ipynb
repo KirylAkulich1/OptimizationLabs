{
 "cells": [
  {
   "cell_type": "code",
   "execution_count": null,
   "metadata": {},
   "outputs": [],
   "source": []
  },
  {
   "cell_type": "markdown",
   "metadata": {},
   "source": [
    "# Лабораторная работа 1"
   ]
  },
  {
   "cell_type": "markdown",
   "metadata": {},
   "source": [
    "Цели: Изучить метод Гомори.<br>\n",
    "Задачи: Реализовать метод Гомори для решения целочисленной задачи линейного программирования, описать алгоритм и вывести решённые примеры.\n"
   ]
  },
  {
   "cell_type": "markdown",
   "metadata": {},
   "source": [
    "![](p1.png)"
   ]
  },
  {
   "cell_type": "markdown",
   "metadata": {},
   "source": [
    "![](p2.png)"
   ]
  },
  {
   "cell_type": "markdown",
   "metadata": {},
   "source": [
    "![](p2.png)"
   ]
  },
  {
   "cell_type": "markdown",
   "metadata": {},
   "source": [
    "![](p3.png)"
   ]
  },
  {
   "cell_type": "markdown",
   "metadata": {},
   "source": [
    "![](p5.png)"
   ]
  },
  {
   "cell_type": "code",
   "execution_count": 36,
   "metadata": {},
   "outputs": [],
   "source": [
    "import numpy as np\n",
    "from numpy.lib.index_tricks import index_exp\n",
    "import math\n",
    "import first\n",
    "\n",
    "class SimplexTableSolver:\n",
    "\n",
    "    def __init__(self,c,a,b,x_count) -> None:\n",
    "        self._c= np.array(c)\n",
    "        self._a = np.array(a)\n",
    "        self._b = np.array(b)\n",
    "        self._x_count = x_count\n",
    "\n",
    "        # initialize simplex table\n",
    "        self._simplex_table = np.zeros(shape =(np.shape(a)[0] + 1,np.shape(a)[1] + 2 + np.shape(a)[0]))\n",
    "        self._simplex_table[0][0] = 1\n",
    "        self._simplex_table[0,1 : x_count + 1] = -1*self._c\n",
    "        self._simplex_table[1:,1 : x_count + 1]= self._a\n",
    "        self._simplex_table[1:,x_count+1:-1] =np.eye(np.shape(a)[0])\n",
    "        self._simplex_table[1:,-1] = self._b\n",
    "\n",
    "    def _get_max_first_table_coeff(self):\n",
    "        indx = -1\n",
    "        min_negative = 0\n",
    "        for i,v in enumerate(self._simplex_table[0,1:self._x_count+1]):\n",
    "            if v < 0 and v < min_negative:\n",
    "                min_negative = v\n",
    "                indx = i + 1\n",
    "        return indx\n",
    "    \n",
    "    def _get_min_positive_solve(self, i):\n",
    "        indx = -1\n",
    "        min_positive = np.inf\n",
    "        for _i,v in enumerate(self._simplex_table[1:,-1]/self._simplex_table[1:,i]):\n",
    "            if v > 0 and v!= np.inf and v < min_positive:\n",
    "                indx = _i +1 \n",
    "                min_positive = v\n",
    "\n",
    "        return indx\n",
    "\n",
    "    def solve(self):\n",
    "\n",
    "        while True:\n",
    "            row_inx= self._get_max_first_table_coeff()\n",
    "            if row_inx == -1:\n",
    "                return\n",
    "            \n",
    "            line_indx = self._get_min_positive_solve(row_inx)\n",
    "\n",
    "            if line_indx == -1:\n",
    "                return\n",
    "            self._simplex_table[line_indx] /= self._simplex_table[line_indx][row_inx]\n",
    "            for table_line_indx in range(self._simplex_table.shape[0]):\n",
    "                if table_line_indx == line_indx:\n",
    "                    continue\n",
    "                self._simplex_table[table_line_indx] = self._simplex_table[table_line_indx] - self._simplex_table[table_line_indx,row_inx]* self._simplex_table[line_indx]\n",
    "            \n",
    "            print(self._simplex_table)\n",
    "    def _check_if_basis(self,i):\n",
    "        row = self._simplex_table[1:,i]\n",
    "        one_count = np.sum(row == 1.0)\n",
    "        zeros_count = np.sum(row== 0.0)\n",
    "        if one_count == 1 and zeros_count == ( len(row) -1):\n",
    "            return np.where(row == 1)[0][0] + 1\n",
    "        else:\n",
    "            return  -1\n",
    "    def _find_f(self,v):\n",
    "        return  v - math.floor(v)\n",
    "    def integer_solve(self):\n",
    "        self.solve()\n",
    "        self._simplex_table[0, 1 :-2] = -self._simplex_table[0, 1 :-2]\n",
    "        i=0\n",
    "        while True:\n",
    "            solutions = list()\n",
    "            for basis_indx in range(1,self._simplex_table.shape[1]-1):\n",
    "                solution_indx = self._check_if_basis(basis_indx)\n",
    "                if solution_indx != -1:\n",
    "                    solutions.append( (solution_indx, self._simplex_table[solution_indx,-1]))\n",
    "            solutions.sort(key=lambda x: x[0])\n",
    "            f_list = list(map(lambda x: (x[0],self._find_f(x[1])),solutions))\n",
    "            f_max = np.max([x[1] for x in f_list])\n",
    "            if f_max <  0.00000000001:\n",
    "                print(\"STOP ITERATION!!!!!!!!!\")\n",
    "                print(self._simplex_table)\n",
    "                print(solutions)\n",
    "                return\n",
    "            f_max_indx = first.first(f_list, key= lambda x: x[1] == f_max)[0]\n",
    "            self._simplex_table = np.insert(self._simplex_table,-1,np.zeros(self._simplex_table.shape[0]),1)\n",
    "            row_to_insert = np.zeros(self._simplex_table.shape[1])\n",
    "            row_to_insert[-1] = -1* f_max\n",
    "            row_to_insert[-2] = 1\n",
    "            for i in range(1,len(row_to_insert)-2):\n",
    "                value = self._simplex_table[f_max_indx,i]\n",
    "                row_to_insert[i] = -self._find_f(value)\n",
    "            self._simplex_table=np.insert(self._simplex_table,self._simplex_table.shape[0],row_to_insert,0) \n",
    "            divided_line = list()\n",
    "            for x,y in zip(self._simplex_table[0, 1 :-2],self._simplex_table[-1, 1 :-2]):\n",
    "                if y == 0:\n",
    "                    divided_line.append(np.inf)\n",
    "                else:\n",
    "                    divided_line.append(x/y)\n",
    "            \n",
    "            min_for_new_value = np.min(divided_line)\n",
    "            new_basis_indx = divided_line.index(min_for_new_value) + 1 \n",
    "            value_to_divide = float(self._simplex_table[-1,new_basis_indx])\n",
    "            self._simplex_table[-1]/= value_to_divide\n",
    "            for row_indx  in range(self._simplex_table.shape[0] - 1):\n",
    "                self._simplex_table[row_indx] = self._simplex_table[row_indx] - self._simplex_table[-1] * self._simplex_table[row_indx][new_basis_indx] \n",
    "            print('\\n')"
   ]
  },
  {
   "cell_type": "markdown",
   "metadata": {},
   "source": [
    "![](p4.png)"
   ]
  },
  {
   "cell_type": "code",
   "execution_count": 37,
   "metadata": {},
   "outputs": [
    {
     "name": "stdout",
     "output_type": "stream",
     "text": [
      "[[ 1.         -2.         -1.          0.          2.          0.\n",
      "   0.         70.        ]\n",
      " [ 0.          0.33333333  0.66666667  1.          0.33333333  0.\n",
      "   0.         11.66666667]\n",
      " [ 0.          3.33333333  1.66666667  0.         -0.66666667  1.\n",
      "   0.         21.66666667]\n",
      " [ 0.          2.66666667  0.33333333  0.         -0.33333333  0.\n",
      "   1.         28.33333333]]\n",
      "[[ 1.   0.   0.   0.   1.6  0.6  0.  83. ]\n",
      " [ 0.   0.   0.5  1.   0.4 -0.1  0.   9.5]\n",
      " [ 0.   1.   0.5  0.  -0.2  0.3  0.   6.5]\n",
      " [ 0.   0.  -1.   0.   0.2 -0.8  1.  11. ]]\n",
      "\n",
      "\n",
      "STOP ITERATION!!!!!!!!!\n",
      "[[ 1.   0.   0.   0.  -1.6 -0.6  0.   0.  83. ]\n",
      " [ 0.   0.   0.   1.   0.  -1.   0.   1.   9. ]\n",
      " [ 0.   1.   0.   0.  -0.6 -0.6  0.   1.   6. ]\n",
      " [ 0.   0.   0.   0.   1.   1.   1.  -2.  12. ]\n",
      " [-0.   0.   1.   0.   0.8  1.8  0.  -2.   1. ]]\n",
      "[(1, 9.0), (2, 6.0), (3, 12.000000000000004), (4, 1.0)]\n"
     ]
    }
   ],
   "source": [
    "c=[4,5,6]\n",
    "a=[[1,2,3],\n",
    "[4,3,2],\n",
    "[3,1,1]]\n",
    "\n",
    "b=[35,45,40]\n",
    "\n",
    "solver = SimplexTableSolver(c,a,b,3)\n",
    "solver.integer_solve()"
   ]
  },
  {
   "cell_type": "markdown",
   "metadata": {},
   "source": [
    "![](p6.png)"
   ]
  },
  {
   "cell_type": "code",
   "execution_count": 38,
   "metadata": {},
   "outputs": [
    {
     "name": "stdout",
     "output_type": "stream",
     "text": [
      "[[ 1.    0.   17.75  0.    0.    1.75  8.75]\n",
      " [ 0.    0.   -1.5   1.    0.   -0.5   6.5 ]\n",
      " [ 0.    0.    3.    0.    1.    0.    7.  ]\n",
      " [ 0.    1.    1.25  0.    0.    0.25  1.25]]\n",
      "\n",
      "\n",
      "STOP ITERATION!!!!!!!!!\n",
      "[[  1.   -0.  -19.5  -0.   -0.    0.    3.5   7. ]\n",
      " [  0.    0.   -1.    1.    0.    0.   -1.    7. ]\n",
      " [  0.    0.    3.    0.    1.    0.    0.    7. ]\n",
      " [  0.    1.    1.    0.    0.    0.    0.5   1. ]\n",
      " [ -0.    0.    1.    0.    0.    1.   -2.    1. ]]\n",
      "[(1, 7.0), (2, 7.0), (3, 1.0), (4, 1.0)]\n"
     ]
    },
    {
     "name": "stderr",
     "output_type": "stream",
     "text": [
      "/tmp/ipykernel_9895/1699453787.py:34: RuntimeWarning: divide by zero encountered in true_divide\n",
      "  for _i,v in enumerate(self._simplex_table[1:,-1]/self._simplex_table[1:,i]):\n"
     ]
    }
   ],
   "source": [
    "c=[7,-9]\n",
    "a=[[2,1],\n",
    "[0,3],\n",
    "[4,5]]\n",
    "\n",
    "b=[9,7,5]\n",
    "\n",
    "solver = SimplexTableSolver(c,a,b,2)\n",
    "solver.integer_solve()"
   ]
  },
  {
   "cell_type": "markdown",
   "metadata": {},
   "source": [
    "![](p8.png)"
   ]
  }
 ],
 "metadata": {
  "interpreter": {
   "hash": "916dbcbb3f70747c44a77c7bcd40155683ae19c65e1c03b4aa3499c5328201f1"
  },
  "kernelspec": {
   "display_name": "Python 3.8.10 64-bit",
   "name": "python3"
  },
  "language_info": {
   "codemirror_mode": {
    "name": "ipython",
    "version": 3
   },
   "file_extension": ".py",
   "mimetype": "text/x-python",
   "name": "python",
   "nbconvert_exporter": "python",
   "pygments_lexer": "ipython3",
   "version": "3.9.9"
  },
  "orig_nbformat": 4
 },
 "nbformat": 4,
 "nbformat_minor": 2
}
