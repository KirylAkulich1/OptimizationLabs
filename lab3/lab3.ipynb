{
 "cells": [
  {
   "cell_type": "markdown",
   "metadata": {},
   "source": [
    "# Лабораторная работа 3\n",
    "Цель: Разработать алгоритм решения задачи методом динамического программирования\n",
    "![](1.png)\n",
    "![](2.png)\n",
    "![](3.png)\n",
    "![](4.png)\n",
    "![](5.png)"
   ]
  },
  {
   "cell_type": "markdown",
   "metadata": {},
   "source": [
    "# Тестовый прмер\n",
    "![](6.png)\n",
    "![](7.png)"
   ]
  },
  {
   "cell_type": "code",
   "execution_count": null,
   "metadata": {},
   "outputs": [],
   "source": [
    "def find_optimal_mangment(X,Z,N):\n",
    "    F = list()\n",
    "    F.append(dict())\n",
    "    for i in range(len(X)):\n",
    "        F[0][X[i]] = (Z[0][i],i)\n",
    "    for i in range(1,N):\n",
    "        f_dict = dict()\n",
    "        for x in X:\n",
    "            _f = list()\n",
    "            for j,_x in enumerate(X):\n",
    "                if (x - _x) >=  0:\n",
    "                    _f.append(Z[i][j] + F[-1][ x-_x ][0])\n",
    "            _f_max = max(_f)\n",
    "            _f_max_index = _f.index(_f_max)\n",
    "            f_dict[x] = (_f_max,_f_max_index)\n",
    "\n",
    "        F.append(f_dict)\n",
    "    return F\n",
    "\n",
    "def restore_history(F,X,R):\n",
    "    H = list()\n",
    "    for i in range(len(F)-1,-1,-1):\n",
    "        _,I = F[i][R]\n",
    "        R = R - X[I]\n",
    "        H.append((i+1,X[I]))\n",
    "    return H\n",
    "\n"
   ]
  },
  {
   "cell_type": "code",
   "execution_count": 17,
   "metadata": {},
   "outputs": [
    {
     "name": "stdout",
     "output_type": "stream",
     "text": [
      "[{0: (0, 0), 80: (30, 1), 160: (57, 2), 240: (120, 3), 320: (150, 4), 400: (180, 5)}, {0: (0, 0), 80: (30, 0), 160: (62, 2), 240: (122, 3), 320: (152, 3), 400: (182, 2)}, {0: (0, 0), 80: (35, 1), 160: (67, 2), 240: (130, 3), 320: (160, 3), 400: (192, 3)}, {0: (0, 0), 80: (35, 0), 160: (73, 2), 240: (130, 0), 320: (160, 0), 400: (203, 2)}]\n",
      "[(4, 160), (3, 240), (2, 0)]\n"
     ]
    }
   ],
   "source": [
    "X = [0,80,160,240,320,400]\n",
    "Z = [[0,30,57,120,150,180],\n",
    "    [0,28,62,122,146,175],\n",
    "    [0,35,67,130,144,180],\n",
    "    [0,27,73,125,152,178]]\n",
    "N = 4\n",
    "R = 400\n",
    "F = find_optimal_mangment(X,Z,N)\n",
    "print(F)\n",
    "print(restore_history(F,X,R))\n"
   ]
  },
  {
   "cell_type": "markdown",
   "metadata": {},
   "source": [
    "![](8.png)"
   ]
  }
 ],
 "metadata": {
  "interpreter": {
   "hash": "aee8b7b246df8f9039afb4144a1f6fd8d2ca17a180786b69acc140d282b71a49"
  },
  "kernelspec": {
   "display_name": "Python 3.9.7 64-bit",
   "name": "python3"
  },
  "language_info": {
   "codemirror_mode": {
    "name": "ipython",
    "version": 3
   },
   "file_extension": ".py",
   "mimetype": "text/x-python",
   "name": "python",
   "nbconvert_exporter": "python",
   "pygments_lexer": "ipython3",
   "version": "3.9.7"
  },
  "orig_nbformat": 4
 },
 "nbformat": 4,
 "nbformat_minor": 2
}
