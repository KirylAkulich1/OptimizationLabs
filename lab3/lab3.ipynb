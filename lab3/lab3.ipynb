{
 "cells": [
  {
   "cell_type": "code",
   "execution_count": 16,
   "source": [
    "def find_optimal_mangment(X,Z,N):\n",
    "    F = list()\n",
    "    F.append(dict())\n",
    "    for i in range(len(X)):\n",
    "        F[0][X[i]] = (Z[0][i],i)\n",
    "    for i in range(1,N):\n",
    "        f_dict = dict()\n",
    "        for x in X:\n",
    "            _f = list()\n",
    "            for j,_x in enumerate(X):\n",
    "                if (x - _x) >=  0:\n",
    "                    _f.append(Z[i][j] + F[-1][ x-_x ][0])\n",
    "            _f_max = max(_f)\n",
    "            _f_max_index = _f.index(_f_max)\n",
    "            f_dict[x] = (_f_max,_f_max_index)\n",
    "\n",
    "        F.append(f_dict)\n",
    "    return F\n",
    "\n",
    "def restore_history(F,X,R):\n",
    "    H = list()\n",
    "    for i in range(len(F)-1,-1,-1):\n",
    "        _,I = F[i][R]\n",
    "        R = R - X[I]\n",
    "        H.append((i+1,X[I]))\n",
    "    return H\n",
    "\n"
   ],
   "outputs": [],
   "metadata": {}
  },
  {
   "cell_type": "code",
   "execution_count": 17,
   "source": [
    "X = [0,80,160,240,320,400]\n",
    "Z = [[0,30,57,120,150,180],\n",
    "    [0,28,62,122,146,175],\n",
    "    [0,35,67,130,144,180],\n",
    "    [0,27,73,125,152,178]]\n",
    "N = 4\n",
    "R = 400\n",
    "F = find_optimal_mangment(X,Z,N)\n",
    "print(F)\n",
    "print(restore_history(F,X,R))\n"
   ],
   "outputs": [
    {
     "output_type": "stream",
     "name": "stdout",
     "text": [
      "[{0: (0, 0), 80: (30, 1), 160: (57, 2), 240: (120, 3), 320: (150, 4), 400: (180, 5)}, {0: (0, 0), 80: (30, 0), 160: (62, 2), 240: (122, 3), 320: (152, 3), 400: (182, 2)}, {0: (0, 0), 80: (35, 1), 160: (67, 2), 240: (130, 3), 320: (160, 3), 400: (192, 3)}, {0: (0, 0), 80: (35, 0), 160: (73, 2), 240: (130, 0), 320: (160, 0), 400: (203, 2)}]\n",
      "[(4, 160), (3, 240), (2, 0)]\n"
     ]
    }
   ],
   "metadata": {}
  },
  {
   "cell_type": "code",
   "execution_count": null,
   "source": [],
   "outputs": [],
   "metadata": {}
  }
 ],
 "metadata": {
  "orig_nbformat": 4,
  "language_info": {
   "name": "python",
   "version": "3.9.7",
   "mimetype": "text/x-python",
   "codemirror_mode": {
    "name": "ipython",
    "version": 3
   },
   "pygments_lexer": "ipython3",
   "nbconvert_exporter": "python",
   "file_extension": ".py"
  },
  "kernelspec": {
   "name": "python3",
   "display_name": "Python 3.9.7 64-bit"
  },
  "interpreter": {
   "hash": "aee8b7b246df8f9039afb4144a1f6fd8d2ca17a180786b69acc140d282b71a49"
  }
 },
 "nbformat": 4,
 "nbformat_minor": 2
}