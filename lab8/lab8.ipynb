{
 "cells": [
  {
   "cell_type": "markdown",
   "metadata": {},
   "source": [
    "![](1.png)\n",
    "![](2.png)\n",
    "![](3.png)\n",
    "![](4.png)\n",
    "![](5.png)\n"
   ]
  },
  {
   "cell_type": "code",
   "execution_count": 4,
   "metadata": {},
   "outputs": [
    {
     "name": "stdout",
     "output_type": "stream",
     "text": [
      "[[ 0.  1.  0.  1.  0.  0.]\n",
      " [-1.  0.  0.  0.  1.  0.]\n",
      " [ 0.  0.  0. -1.  0.  1.]\n",
      " [-1.  0.  1.  0.  0.  0.]\n",
      " [ 0. -1.  0.  0.  0.  1.]\n",
      " [ 0.  0. -1.  0. -1.  0.]]\n"
     ]
    }
   ],
   "source": [
    "import networkx as nx\n",
    "import numpy as np\n",
    "import copy\n",
    "\n",
    "def basaker_gowen(c_matrix,v_matrix,v):\n",
    "    flow_matrix =np.zeros(np.shape(c_matrix))\n",
    "    G = nx.DiGraph()\n",
    "    G.add_nodes_from(range(np.shape(c_matrix)[0]))\n",
    "    for i in range(np.shape(c_matrix)[0]):\n",
    "        for j,_v in enumerate(c_matrix[i]):\n",
    "            if _v!=0:\n",
    "                G.add_edge(i,j, weight =copy.copy(c_matrix[i][j]))\n",
    "    path = nx.dijkstra_path(G,0, np.shape(c_matrix)[0] - 1)\n",
    "    while len(path) != 0 and v != 0:\n",
    "        for i in range(1,len(path)):\n",
    "            edge = [path[i-1],path[i]]\n",
    "            flow_matrix[edge[0],edge[1]] += 1\n",
    "            flow_v = flow_matrix[edge[0],edge[1]]\n",
    "            if flow_matrix[edge[0],edge[1]] == v_matrix[edge[0]][edge[1]]:\n",
    "                G[edge[0]][edge[1]]['weight'] = 9999999\n",
    "            else:\n",
    "                G[edge[0]][edge[1]]['weight'] = c_matrix[edge[0]][edge[1]]\n",
    "            G[edge[1]][edge[0]]['weight'] = -c_matrix[edge[1]][edge[0]]\n",
    "            flow_matrix[edge[1],edge[0]] -= 1\n",
    "        path = nx.dijkstra_path(G,0, np.shape(c_matrix)[0] - 1)\n",
    "        v-=1\n",
    "    return flow_matrix\n",
    "\n",
    "c_matrix = [[0,1,0,1,0,0],\n",
    "            [1,0,2,0,2,0],\n",
    "            [0,2,0,2,0,1],\n",
    "            [1,0,2,0,0,0],\n",
    "            [0,2,0,0,0,2],\n",
    "            [0,0,1,0,2,0]]\n",
    "v_matrix = [[0,1,0,1,0,0],\n",
    "            [1,0,1,0,2,0],\n",
    "            [0,1,0,1,0,1],\n",
    "            [1,0,1,0,0,0],\n",
    "            [0,2,0,0,0,2],\n",
    "            [0,0,1,0,2,0]]\n",
    "\n",
    "v =2 \n",
    "\n",
    "print(basaker_gowen(c_matrix,v_matrix,v))"
   ]
  }
 ],
 "metadata": {
  "interpreter": {
   "hash": "916dbcbb3f70747c44a77c7bcd40155683ae19c65e1c03b4aa3499c5328201f1"
  },
  "kernelspec": {
   "display_name": "Python 3.8.10 64-bit",
   "language": "python",
   "name": "python3"
  },
  "language_info": {
   "codemirror_mode": {
    "name": "ipython",
    "version": 3
   },
   "file_extension": ".py",
   "mimetype": "text/x-python",
   "name": "python",
   "nbconvert_exporter": "python",
   "pygments_lexer": "ipython3",
   "version": "3.8.10"
  },
  "orig_nbformat": 4
 },
 "nbformat": 4,
 "nbformat_minor": 2
}
